{
 "cells": [
  {
   "cell_type": "markdown",
   "metadata": {},
   "source": [
    "# 📄 Document Text Extraction Test\n",
    "\n",
    "Upload a file and preview the extracted plain text.\n",
    "\n",
    "**Supported formats:** PDF, DOCX, HTML, XLSX, CSV"
   ]
  },
  {
   "cell_type": "code",
   "metadata": {},
   "execution_count": null,
   "outputs": [],
   "source": [
    "# ✅ Install dependencies (for Colab)\n",
    "!pip install pdfplumber python-docx beautifulsoup4 pandas openpyxl"
   ]
  },
  {
   "cell_type": "code",
   "metadata": {},
   "execution_count": null,
   "outputs": [],
   "source": [
    "# 📦 Import your extractor module\n",
    "import sys\n",
    "sys.path.append(\"../src\")\n",
    "from extract import extract_text"
   ]
  },
  {
   "cell_type": "code",
   "metadata": {},
   "execution_count": null,
   "outputs": [],
   "source": [
    "# 📁 Upload a file\n",
    "from google.colab import files\n",
    "uploaded = files.upload()"
   ]
  },
  {
   "cell_type": "code",
   "metadata": {},
   "execution_count": null,
   "outputs": [],
   "source": [
    "# 🔍 Extract and preview content\n",
    "for fname in uploaded.keys():\n",
    "    print(f\"Extracting from: {fname}\")\n",
    "    print(\"-\" * 50)\n",
    "    text = extract_text(fname)\n",
    "    print(text[:3000])\n",
    "    print(\"\\n[...truncated output...]\\n\")"
   ]
  }
 ],
 "metadata": {
  "kernelspec": {
   "display_name": "Python 3",
   "language": "python",
   "name": "python3"
  },
  "language_info": {
   "name": "python"
  }
 },
 "nbformat": 4,
 "nbformat_minor": 2
}
